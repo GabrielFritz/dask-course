{
 "cells": [
  {
   "cell_type": "markdown",
   "id": "combined-jones",
   "metadata": {},
   "source": [
    "# Lab 1 - Feature Engineering using Dask Dataframes"
   ]
  },
  {
   "cell_type": "markdown",
   "id": "julian-aquatic",
   "metadata": {},
   "source": [
    "## Setting up a Dask client"
   ]
  },
  {
   "cell_type": "code",
   "execution_count": 11,
   "id": "ready-tracker",
   "metadata": {},
   "outputs": [],
   "source": [
    "from dask.distributed import Client\n",
    "import dask.dataframe as dd\n",
    "import dask\n",
    "import pandas as pd"
   ]
  },
  {
   "cell_type": "code",
   "execution_count": 12,
   "id": "marked-aaron",
   "metadata": {},
   "outputs": [
    {
     "name": "stderr",
     "output_type": "stream",
     "text": [
      "/home/fri72/miniconda3/envs/dask-course/lib/python3.7/site-packages/distributed/node.py:155: UserWarning: Port 8787 is already in use.\n",
      "Perhaps you already have a cluster running?\n",
      "Hosting the HTTP server on port 35305 instead\n",
      "  http_address[\"port\"], self.http_server.port\n"
     ]
    },
    {
     "data": {
      "text/html": [
       "<table style=\"border: 2px solid white;\">\n",
       "<tr>\n",
       "<td style=\"vertical-align: top; border: 0px solid white\">\n",
       "<h3 style=\"text-align: left;\">Client</h3>\n",
       "<ul style=\"text-align: left; list-style: none; margin: 0; padding: 0;\">\n",
       "  <li><b>Scheduler: </b>inproc://192.168.0.26/77934/61</li>\n",
       "  <li><b>Dashboard: </b><a href='http://192.168.0.26:35305/status' target='_blank'>http://192.168.0.26:35305/status</a></li>\n",
       "</ul>\n",
       "</td>\n",
       "<td style=\"vertical-align: top; border: 0px solid white\">\n",
       "<h3 style=\"text-align: left;\">Cluster</h3>\n",
       "<ul style=\"text-align: left; list-style:none; margin: 0; padding: 0;\">\n",
       "  <li><b>Workers: </b>1</li>\n",
       "  <li><b>Cores: </b>8</li>\n",
       "  <li><b>Memory: </b>16.68 GB</li>\n",
       "</ul>\n",
       "</td>\n",
       "</tr>\n",
       "</table>"
      ],
      "text/plain": [
       "<Client: 'inproc://192.168.0.26/77934/61' processes=1 threads=8, memory=16.68 GB>"
      ]
     },
     "execution_count": 12,
     "metadata": {},
     "output_type": "execute_result"
    }
   ],
   "source": [
    "client = Client(n_workers=1, processes=False)\n",
    "client"
   ]
  },
  {
   "cell_type": "markdown",
   "id": "seasonal-sunglasses",
   "metadata": {},
   "source": [
    "## **Exercise 1:** Reading the data\n",
    "\n",
    "Dask Dataframes coordinate many Pandas dataframes, partitioned along an index.\n",
    "You can read a Dask dataframe from multiple parquet files using a glob expression like below:\n",
    "```python\n",
    "\n",
    "    df = dd.read_parquet(\"my-parquet-data-*.parquet\")\n",
    "\n",
    "```\n",
    "\n",
    "In the cell below, read data from our `nyc_taxi_data_2014` CSV files just like in Pandas, but using a glob expression to read the multiple files at once."
   ]
  },
  {
   "cell_type": "code",
   "execution_count": 3,
   "id": "substantial-bedroom",
   "metadata": {},
   "outputs": [],
   "source": [
    "# YOUR CODE GOES HERE!"
   ]
  },
  {
   "cell_type": "markdown",
   "id": "guided-interface",
   "metadata": {},
   "source": [
    "**solution:**"
   ]
  },
  {
   "cell_type": "code",
   "execution_count": 58,
   "id": "progressive-hughes",
   "metadata": {
    "tags": []
   },
   "outputs": [],
   "source": [
    "df = dd.read_csv(\"data/nyc-taxi-trip-duration/train-*.csv\")"
   ]
  },
  {
   "cell_type": "code",
   "execution_count": 51,
   "id": "falling-november",
   "metadata": {},
   "outputs": [
    {
     "data": {
      "text/html": [
       "<div>\n",
       "<style scoped>\n",
       "    .dataframe tbody tr th:only-of-type {\n",
       "        vertical-align: middle;\n",
       "    }\n",
       "\n",
       "    .dataframe tbody tr th {\n",
       "        vertical-align: top;\n",
       "    }\n",
       "\n",
       "    .dataframe thead th {\n",
       "        text-align: right;\n",
       "    }\n",
       "</style>\n",
       "<table border=\"1\" class=\"dataframe\">\n",
       "  <thead>\n",
       "    <tr style=\"text-align: right;\">\n",
       "      <th></th>\n",
       "      <th>id</th>\n",
       "      <th>vendor_id</th>\n",
       "      <th>pickup_datetime</th>\n",
       "      <th>dropoff_datetime</th>\n",
       "      <th>passenger_count</th>\n",
       "      <th>pickup_longitude</th>\n",
       "      <th>pickup_latitude</th>\n",
       "      <th>dropoff_longitude</th>\n",
       "      <th>dropoff_latitude</th>\n",
       "      <th>store_and_fwd_flag</th>\n",
       "      <th>trip_duration</th>\n",
       "    </tr>\n",
       "  </thead>\n",
       "  <tbody>\n",
       "    <tr>\n",
       "      <th>0</th>\n",
       "      <td>id2875421</td>\n",
       "      <td>2</td>\n",
       "      <td>2016-03-14 17:24:55</td>\n",
       "      <td>2016-03-14 17:32:30</td>\n",
       "      <td>1</td>\n",
       "      <td>-73.982155</td>\n",
       "      <td>40.767937</td>\n",
       "      <td>-73.964630</td>\n",
       "      <td>40.765602</td>\n",
       "      <td>N</td>\n",
       "      <td>455</td>\n",
       "    </tr>\n",
       "    <tr>\n",
       "      <th>1</th>\n",
       "      <td>id2377394</td>\n",
       "      <td>1</td>\n",
       "      <td>2016-06-12 00:43:35</td>\n",
       "      <td>2016-06-12 00:54:38</td>\n",
       "      <td>1</td>\n",
       "      <td>-73.980415</td>\n",
       "      <td>40.738564</td>\n",
       "      <td>-73.999481</td>\n",
       "      <td>40.731152</td>\n",
       "      <td>N</td>\n",
       "      <td>663</td>\n",
       "    </tr>\n",
       "    <tr>\n",
       "      <th>2</th>\n",
       "      <td>id3858529</td>\n",
       "      <td>2</td>\n",
       "      <td>2016-01-19 11:35:24</td>\n",
       "      <td>2016-01-19 12:10:48</td>\n",
       "      <td>1</td>\n",
       "      <td>-73.979027</td>\n",
       "      <td>40.763939</td>\n",
       "      <td>-74.005333</td>\n",
       "      <td>40.710087</td>\n",
       "      <td>N</td>\n",
       "      <td>2124</td>\n",
       "    </tr>\n",
       "    <tr>\n",
       "      <th>3</th>\n",
       "      <td>id3504673</td>\n",
       "      <td>2</td>\n",
       "      <td>2016-04-06 19:32:31</td>\n",
       "      <td>2016-04-06 19:39:40</td>\n",
       "      <td>1</td>\n",
       "      <td>-74.010040</td>\n",
       "      <td>40.719971</td>\n",
       "      <td>-74.012268</td>\n",
       "      <td>40.706718</td>\n",
       "      <td>N</td>\n",
       "      <td>429</td>\n",
       "    </tr>\n",
       "    <tr>\n",
       "      <th>4</th>\n",
       "      <td>id2181028</td>\n",
       "      <td>2</td>\n",
       "      <td>2016-03-26 13:30:55</td>\n",
       "      <td>2016-03-26 13:38:10</td>\n",
       "      <td>1</td>\n",
       "      <td>-73.973053</td>\n",
       "      <td>40.793209</td>\n",
       "      <td>-73.972923</td>\n",
       "      <td>40.782520</td>\n",
       "      <td>N</td>\n",
       "      <td>435</td>\n",
       "    </tr>\n",
       "  </tbody>\n",
       "</table>\n",
       "</div>"
      ],
      "text/plain": [
       "          id  vendor_id      pickup_datetime     dropoff_datetime  \\\n",
       "0  id2875421          2  2016-03-14 17:24:55  2016-03-14 17:32:30   \n",
       "1  id2377394          1  2016-06-12 00:43:35  2016-06-12 00:54:38   \n",
       "2  id3858529          2  2016-01-19 11:35:24  2016-01-19 12:10:48   \n",
       "3  id3504673          2  2016-04-06 19:32:31  2016-04-06 19:39:40   \n",
       "4  id2181028          2  2016-03-26 13:30:55  2016-03-26 13:38:10   \n",
       "\n",
       "   passenger_count  pickup_longitude  pickup_latitude  dropoff_longitude  \\\n",
       "0                1        -73.982155        40.767937         -73.964630   \n",
       "1                1        -73.980415        40.738564         -73.999481   \n",
       "2                1        -73.979027        40.763939         -74.005333   \n",
       "3                1        -74.010040        40.719971         -74.012268   \n",
       "4                1        -73.973053        40.793209         -73.972923   \n",
       "\n",
       "   dropoff_latitude store_and_fwd_flag  trip_duration  \n",
       "0         40.765602                  N            455  \n",
       "1         40.731152                  N            663  \n",
       "2         40.710087                  N           2124  \n",
       "3         40.706718                  N            429  \n",
       "4         40.782520                  N            435  "
      ]
     },
     "execution_count": 51,
     "metadata": {},
     "output_type": "execute_result"
    }
   ],
   "source": [
    "df.head()"
   ]
  },
  {
   "cell_type": "markdown",
   "id": "chronic-midnight",
   "metadata": {},
   "source": [
    "**Unlike Pandas, Dask DataFrames are lazy and so no data is printed here. But the column names and dtypes are known.** (Explicar como dask sabe os tipos)"
   ]
  },
  {
   "cell_type": "markdown",
   "id": "determined-august",
   "metadata": {},
   "source": [
    "**Some operations are computed right away, like head, but most of them are computed after the explicit compute command.**"
   ]
  },
  {
   "cell_type": "markdown",
   "id": "needed-sally",
   "metadata": {},
   "source": [
    "## **Exercise 2:** What as the biggest trip duration in hours?"
   ]
  },
  {
   "cell_type": "code",
   "execution_count": 52,
   "id": "controlled-board",
   "metadata": {},
   "outputs": [],
   "source": [
    "# YOUR CODE GOES HERE"
   ]
  },
  {
   "cell_type": "code",
   "execution_count": 53,
   "id": "victorian-robin",
   "metadata": {
    "tags": []
   },
   "outputs": [
    {
     "data": {
      "text/plain": [
       "979.5227777777778"
      ]
     },
     "execution_count": 53,
     "metadata": {},
     "output_type": "execute_result"
    }
   ],
   "source": [
    "(df.trip_duration.max()/3600).compute()"
   ]
  },
  {
   "cell_type": "markdown",
   "id": "smoking-chicago",
   "metadata": {},
   "source": [
    "Hmmmm... This doesn't seem right. It would mean that someone did a trip during 40 days! Let's remove every trip that took more than a day."
   ]
  },
  {
   "cell_type": "markdown",
   "id": "creative-partition",
   "metadata": {},
   "source": [
    "## **Exercise 3:** Outlier Removal"
   ]
  },
  {
   "cell_type": "code",
   "execution_count": 54,
   "id": "binding-tract",
   "metadata": {},
   "outputs": [],
   "source": [
    "# YOUR CODE GOES HERE"
   ]
  },
  {
   "cell_type": "code",
   "execution_count": 55,
   "id": "atlantic-delhi",
   "metadata": {},
   "outputs": [],
   "source": [
    "df = df[df.trip_duration < (df.trip_duration.mean()+2*df.trip_duration.std())]"
   ]
  },
  {
   "cell_type": "markdown",
   "id": "featured-relay",
   "metadata": {},
   "source": [
    "## **Exercise 4:** What was the mean and standard deviation of number of passengers?"
   ]
  },
  {
   "cell_type": "code",
   "execution_count": null,
   "id": "dense-feelings",
   "metadata": {},
   "outputs": [],
   "source": [
    "# YOUR CODE GOES HERE"
   ]
  },
  {
   "cell_type": "code",
   "execution_count": 12,
   "id": "complicated-chick",
   "metadata": {
    "jupyter": {
     "source_hidden": true
    },
    "tags": []
   },
   "outputs": [
    {
     "name": "stderr",
     "output_type": "stream",
     "text": [
      "/home/fri72/miniconda3/envs/dask-course/lib/python3.7/site-packages/distributed/worker.py:3489: DtypeWarning: Columns (9) have mixed types.Specify dtype option on import or set low_memory=False.\n",
      "  result = function(*args, **kwargs)\n"
     ]
    },
    {
     "data": {
      "text/plain": [
       "(1.7018262467884164, 1.390735923905905)"
      ]
     },
     "execution_count": 12,
     "metadata": {},
     "output_type": "execute_result"
    }
   ],
   "source": [
    "dask.compute(df.passenger_count.mean(), df.passenger_count.std())"
   ]
  },
  {
   "cell_type": "markdown",
   "id": "assigned-subject",
   "metadata": {},
   "source": [
    "## **Exercise 5:** What was the biggest trip distance based on the haversine distance?"
   ]
  },
  {
   "cell_type": "code",
   "execution_count": 46,
   "id": "reduced-dubai",
   "metadata": {},
   "outputs": [],
   "source": [
    "from math import radians, cos, sin, asin, sqrt\n",
    "\n",
    "def haversine_distance(row):\n",
    "#     lon1, lat1, lon2, lat2):\n",
    "    \"\"\"\n",
    "    Calculate the circle distance between two points in lat and lon\n",
    "    on the earth (specified in decimal degrees)\n",
    "    returning distance in miles\n",
    "    \"\"\"\n",
    "    # need to convert decimal degrees to radians \n",
    "    # a unit of angle, equal to an angle at the center of a circle whose arc is equal in length to the radius.\n",
    "    lon1, lat1, lon2, lat2 = row['pickup_longitude'], row['pickup_latitude'], row['dropoff_longitude'], row['dropoff_latitude']\n",
    "    lon1, lat1, lon2, lat2 = map(radians, [lon1, lat1, lon2, lat2])\n",
    "\n",
    "    # haversine formula \n",
    "    dlon = lon2 - lon1 \n",
    "    dlat = lat2 - lat1 \n",
    "    a = sin(dlat/2)**2 + cos(lat1) * cos(lat2) * sin(dlon/2)**2\n",
    "    c = 2 * asin(sqrt(a)) \n",
    "    r = 6371 # Radius of earth in kilometers. Use 3956 for miles\n",
    "    return c * r"
   ]
  },
  {
   "cell_type": "code",
   "execution_count": 47,
   "id": "yellow-episode",
   "metadata": {},
   "outputs": [],
   "source": [
    "# YOUR CODE GOES HERE"
   ]
  },
  {
   "cell_type": "code",
   "execution_count": 48,
   "id": "personal-image",
   "metadata": {},
   "outputs": [],
   "source": [
    "df[\"haversine_distance\"] = df.apply(haversine_distance, meta=(None, \"float64\"), axis=1)\n",
    "haversine_distance = df[\"haversine_distance\"].compute() # The graph until here takes some time to execute.\n",
    "                                                        # To avoid running this twice,\n",
    "                                                        # I saved the result in a variable instead."
   ]
  },
  {
   "cell_type": "code",
   "execution_count": 49,
   "id": "structured-aging",
   "metadata": {},
   "outputs": [
    {
     "data": {
      "text/plain": [
       "1240.9086766508526"
      ]
     },
     "execution_count": 49,
     "metadata": {},
     "output_type": "execute_result"
    }
   ],
   "source": [
    "haversine_distance.max()"
   ]
  },
  {
   "cell_type": "markdown",
   "id": "anticipated-database",
   "metadata": {},
   "source": [
    "Let's use IQR to remove some outlier distances too:\n",
    "\n",
    "***Remember: Avoid recalculations!**"
   ]
  },
  {
   "cell_type": "code",
   "execution_count": null,
   "id": "motivated-belief",
   "metadata": {},
   "outputs": [],
   "source": [
    "# YOUR CODE GOES HERE"
   ]
  },
  {
   "cell_type": "code",
   "execution_count": null,
   "id": "annual-hawaiian",
   "metadata": {},
   "outputs": [],
   "source": [
    "df = df[haversine_distance < haversine_distance.mean()+2*haversine_distance.std()]"
   ]
  },
  {
   "cell_type": "markdown",
   "id": "velvet-september",
   "metadata": {},
   "source": [
    "## **Exercice 6**: Generating calendar features\n",
    "\n",
    "* Explicar map_partitions\n",
    "* Explicar que API parece a de pandas, dar essa dica quando forem gerar as features de calendário"
   ]
  },
  {
   "cell_type": "code",
   "execution_count": 7,
   "id": "brilliant-engineering",
   "metadata": {},
   "outputs": [
    {
     "name": "stderr",
     "output_type": "stream",
     "text": [
      "/home/fri72/miniconda3/envs/dask-course/lib/python3.7/site-packages/dask/dataframe/accessor.py:88: FutureWarning: Series.dt.weekofyear and Series.dt.week have been deprecated.  Please use Series.dt.isocalendar().week instead.\n",
      "  if callable(getattr(self._meta, key)):\n",
      "/home/fri72/miniconda3/envs/dask-course/lib/python3.7/site-packages/dask/dataframe/accessor.py:43: FutureWarning: Series.dt.weekofyear and Series.dt.week have been deprecated.  Please use Series.dt.isocalendar().week instead.\n",
      "  out = getattr(getattr(obj, accessor, obj), attr)\n"
     ]
    }
   ],
   "source": [
    "df['pickup_datetime'] = df.map_partitions(lambda part: pd.to_datetime(part['pickup_datetime'], format=\"%Y-%m-%d %H:%M:%S\"),\n",
    "                                          meta=(\"pickup_datetime\", \"datetime64[ns]\"))\n",
    "df[\"pickup_hour\"] = df[\"pickup_datetime\"].dt.hour\n",
    "df[\"pickup_day\"] = df[\"pickup_datetime\"].dt.day\n",
    "df[\"pickup_week\"] = df[\"pickup_datetime\"].dt.week\n",
    "\n",
    "weekday_dict = {0: \"Mon\",\n",
    "                1: \"Tues\",\n",
    "                2: \"Wed\",\n",
    "                3: \"Thurs\",\n",
    "                4: \"Fri\",\n",
    "                5: \"Sat\",\n",
    "                6: \"Sun\"}\n",
    "df[\"pickup_weekday\"] = df[\"pickup_datetime\"].dt.weekday\n",
    "df[\"pickup_weekday\"] = df[\"pickup_weekday\"].map(weekday_dict)\n",
    "\n",
    "month_dict = {1: \"Jan\",\n",
    "              2: \"Feb\",\n",
    "              3: \"March\",\n",
    "              4: \"April\",\n",
    "              5: \"May\",\n",
    "              6: \"June\",\n",
    "              7:\"July\",\n",
    "              8:\"Aug\",\n",
    "              9:\"Sep\",\n",
    "              10:\"Oct\",\n",
    "              11:\"Nov\",\n",
    "              12:\"Dec\"}\n",
    "df[\"pickup_month\"] = df[\"pickup_datetime\"].dt.month\n",
    "df['month'] = df['pickup_month'].map(month_dict)"
   ]
  },
  {
   "cell_type": "markdown",
   "id": "accompanied-beijing",
   "metadata": {},
   "source": [
    "## **Exercise 7:** Generating the target"
   ]
  },
  {
   "cell_type": "code",
   "execution_count": 60,
   "id": "major-savage",
   "metadata": {},
   "outputs": [],
   "source": [
    "df[\"target\"] = df[\"trip_duration\"] > df.trip_duration.mean()"
   ]
  },
  {
   "cell_type": "code",
   "execution_count": null,
   "id": "ecological-couple",
   "metadata": {},
   "outputs": [
    {
     "name": "stderr",
     "output_type": "stream",
     "text": [
      "/home/fri72/miniconda3/envs/dask-course/lib/python3.7/site-packages/dask/dataframe/accessor.py:43: FutureWarning: Series.dt.weekofyear and Series.dt.week have been deprecated.  Please use Series.dt.isocalendar().week instead.\n",
      "  out = getattr(getattr(obj, accessor, obj), attr)\n",
      "/home/fri72/miniconda3/envs/dask-course/lib/python3.7/site-packages/dask/dataframe/accessor.py:43: FutureWarning: Series.dt.weekofyear and Series.dt.week have been deprecated.  Please use Series.dt.isocalendar().week instead.\n",
      "  out = getattr(getattr(obj, accessor, obj), attr)\n",
      "distributed.comm.inproc - WARNING - Closing dangling queue in <InProc  local=inproc://192.168.0.26/936828/1 remote=inproc://192.168.0.26/936828/8>\n",
      "/home/fri72/miniconda3/envs/dask-course/lib/python3.7/site-packages/dask/dataframe/accessor.py:43: FutureWarning: Series.dt.weekofyear and Series.dt.week have been deprecated.  Please use Series.dt.isocalendar().week instead.\n",
      "  out = getattr(getattr(obj, accessor, obj), attr)\n",
      "/home/fri72/miniconda3/envs/dask-course/lib/python3.7/site-packages/dask/dataframe/accessor.py:43: FutureWarning: Series.dt.weekofyear and Series.dt.week have been deprecated.  Please use Series.dt.isocalendar().week instead.\n",
      "  out = getattr(getattr(obj, accessor, obj), attr)\n",
      "/home/fri72/miniconda3/envs/dask-course/lib/python3.7/site-packages/dask/dataframe/accessor.py:43: FutureWarning: Series.dt.weekofyear and Series.dt.week have been deprecated.  Please use Series.dt.isocalendar().week instead.\n",
      "  out = getattr(getattr(obj, accessor, obj), attr)\n",
      "/home/fri72/miniconda3/envs/dask-course/lib/python3.7/site-packages/dask/dataframe/accessor.py:43: FutureWarning: Series.dt.weekofyear and Series.dt.week have been deprecated.  Please use Series.dt.isocalendar().week instead.\n",
      "  out = getattr(getattr(obj, accessor, obj), attr)\n",
      "/home/fri72/miniconda3/envs/dask-course/lib/python3.7/site-packages/dask/dataframe/accessor.py:43: FutureWarning: Series.dt.weekofyear and Series.dt.week have been deprecated.  Please use Series.dt.isocalendar().week instead.\n",
      "  out = getattr(getattr(obj, accessor, obj), attr)\n",
      "/home/fri72/miniconda3/envs/dask-course/lib/python3.7/site-packages/dask/dataframe/accessor.py:43: FutureWarning: Series.dt.weekofyear and Series.dt.week have been deprecated.  Please use Series.dt.isocalendar().week instead.\n",
      "  out = getattr(getattr(obj, accessor, obj), attr)\n",
      "/home/fri72/miniconda3/envs/dask-course/lib/python3.7/site-packages/dask/dataframe/accessor.py:43: FutureWarning: Series.dt.weekofyear and Series.dt.week have been deprecated.  Please use Series.dt.isocalendar().week instead.\n",
      "  out = getattr(getattr(obj, accessor, obj), attr)\n",
      "/home/fri72/miniconda3/envs/dask-course/lib/python3.7/site-packages/dask/dataframe/accessor.py:43: FutureWarning: Series.dt.weekofyear and Series.dt.week have been deprecated.  Please use Series.dt.isocalendar().week instead.\n",
      "  out = getattr(getattr(obj, accessor, obj), attr)\n",
      "/home/fri72/miniconda3/envs/dask-course/lib/python3.7/site-packages/dask/dataframe/accessor.py:43: FutureWarning: Series.dt.weekofyear and Series.dt.week have been deprecated.  Please use Series.dt.isocalendar().week instead.\n",
      "  out = getattr(getattr(obj, accessor, obj), attr)\n",
      "/home/fri72/miniconda3/envs/dask-course/lib/python3.7/site-packages/dask/dataframe/accessor.py:43: FutureWarning: Series.dt.weekofyear and Series.dt.week have been deprecated.  Please use Series.dt.isocalendar().week instead.\n",
      "  out = getattr(getattr(obj, accessor, obj), attr)\n",
      "/home/fri72/miniconda3/envs/dask-course/lib/python3.7/site-packages/dask/dataframe/accessor.py:43: FutureWarning: Series.dt.weekofyear and Series.dt.week have been deprecated.  Please use Series.dt.isocalendar().week instead.\n",
      "  out = getattr(getattr(obj, accessor, obj), attr)\n"
     ]
    }
   ],
   "source": [
    "df.compute()"
   ]
  }
 ],
 "metadata": {
  "kernelspec": {
   "display_name": "Python 3",
   "language": "python",
   "name": "python3"
  },
  "language_info": {
   "codemirror_mode": {
    "name": "ipython",
    "version": 3
   },
   "file_extension": ".py",
   "mimetype": "text/x-python",
   "name": "python",
   "nbconvert_exporter": "python",
   "pygments_lexer": "ipython3",
   "version": "3.7.9"
  }
 },
 "nbformat": 4,
 "nbformat_minor": 5
}
